{
 "cells": [
  {
   "cell_type": "code",
   "execution_count": 91,
   "metadata": {},
   "outputs": [],
   "source": [
    "import numpy as np\n",
    "import pandas as pd\n",
    "import matplotlib.pyplot as plt"
   ]
  },
  {
   "cell_type": "markdown",
   "metadata": {},
   "source": [
    "**Decision Making Under Risk**\n",
    "1. This is decision making when there are several \n",
    "possible states of nature, and the probabilities \n",
    "associated with each possible state are known.\n",
    "2. The most popular method is to choose the \n",
    "alternative with the highest expected monetary \n",
    "value (EMV).\n"
   ]
  },
  {
   "cell_type": "code",
   "execution_count": 92,
   "metadata": {},
   "outputs": [
    {
     "data": {
      "text/html": [
       "<div>\n",
       "<style scoped>\n",
       "    .dataframe tbody tr th:only-of-type {\n",
       "        vertical-align: middle;\n",
       "    }\n",
       "\n",
       "    .dataframe tbody tr th {\n",
       "        vertical-align: top;\n",
       "    }\n",
       "\n",
       "    .dataframe thead th {\n",
       "        text-align: right;\n",
       "    }\n",
       "</style>\n",
       "<table border=\"1\" class=\"dataframe\">\n",
       "  <thead>\n",
       "    <tr style=\"text-align: right;\">\n",
       "      <th></th>\n",
       "      <th>Alternateves</th>\n",
       "      <th>Good Market</th>\n",
       "      <th>Average Market</th>\n",
       "      <th>Bad Market</th>\n",
       "    </tr>\n",
       "  </thead>\n",
       "  <tbody>\n",
       "    <tr>\n",
       "      <th>0</th>\n",
       "      <td>Small shop</td>\n",
       "      <td>75000.0</td>\n",
       "      <td>25000.0</td>\n",
       "      <td>-40000.0</td>\n",
       "    </tr>\n",
       "    <tr>\n",
       "      <th>1</th>\n",
       "      <td>Meduim Shop</td>\n",
       "      <td>100000.0</td>\n",
       "      <td>35000.0</td>\n",
       "      <td>-60000.0</td>\n",
       "    </tr>\n",
       "    <tr>\n",
       "      <th>2</th>\n",
       "      <td>No shop</td>\n",
       "      <td>0.0</td>\n",
       "      <td>0.0</td>\n",
       "      <td>0.0</td>\n",
       "    </tr>\n",
       "    <tr>\n",
       "      <th>3</th>\n",
       "      <td>problailty</td>\n",
       "      <td>0.2</td>\n",
       "      <td>0.5</td>\n",
       "      <td>0.3</td>\n",
       "    </tr>\n",
       "  </tbody>\n",
       "</table>\n",
       "</div>"
      ],
      "text/plain": [
       "  Alternateves  Good Market  Average Market  Bad Market\n",
       "0   Small shop      75000.0         25000.0    -40000.0\n",
       "1  Meduim Shop     100000.0         35000.0    -60000.0\n",
       "2      No shop          0.0             0.0         0.0\n",
       "3   problailty          0.2             0.5         0.3"
      ]
     },
     "metadata": {},
     "output_type": "display_data"
    }
   ],
   "source": [
    "#EVM is just an Expected value\n",
    "problailty = [0.2, 0.5, 0.30]\n",
    "table = {\n",
    "    \"Alternateves\" : [\"Small shop\", \"Meduim Shop\", \"No shop\", \"problailty\"],\n",
    "    \"Good Market\" : [75000, 100000, 0, problailty[0]],\n",
    "    \"Average Market\" : [25000, 35000, 0, problailty[1]],\n",
    "    \"Bad Market\": [-40000, -60000, 0, problailty[2]]\n",
    "}\n",
    "df = pd.DataFrame(table)\n",
    "display(df)"
   ]
  },
  {
   "cell_type": "code",
   "execution_count": 93,
   "metadata": {},
   "outputs": [
    {
     "data": {
      "text/plain": [
       "['Small shop', 'Meduim Shop', 'No shop', 'problailty']"
      ]
     },
     "execution_count": 93,
     "metadata": {},
     "output_type": "execute_result"
    }
   ],
   "source": [
    "table[\"Alternateves\"]"
   ]
  },
  {
   "cell_type": "code",
   "execution_count": 94,
   "metadata": {},
   "outputs": [
    {
     "data": {
      "image/png": "[encoded data removed]",
      "text/plain": [
       "<Figure size 432x288 with 1 Axes>"
      ]
     },
     "metadata": {},
     "output_type": "display_data"
    }
   ],
   "source": [
    "plt.pie(problailty, labels=['Good Market', 'Average Market', 'Bad Market'], autopct='%1.0f%%');\n"
   ]
  },
  {
   "cell_type": "code",
   "execution_count": 95,
   "metadata": {},
   "outputs": [
    {
     "data": {
      "text/plain": [
       "[[75000.0, 25000.0, -40000.0], [100000.0, 35000.0, -60000.0], [0.0, 0.0, 0.0]]"
      ]
     },
     "execution_count": 95,
     "metadata": {},
     "output_type": "execute_result"
    }
   ],
   "source": [
    "market_conditions = [[df[\"Good Market\"][i], df[\"Average Market\"][i], df[\"Bad Market\"][i]] for i in range(len(df)-1) ]\n",
    "market_conditions"
   ]
  },
  {
   "cell_type": "code",
   "execution_count": 96,
   "metadata": {},
   "outputs": [
    {
     "data": {
      "text/plain": [
       "[[(75000.0, 0.2), (25000.0, 0.5), (-40000.0, 0.3)],\n",
       " [(100000.0, 0.2), (35000.0, 0.5), (-60000.0, 0.3)],\n",
       " [(0.0, 0.2), (0.0, 0.5), (0.0, 0.3)]]"
      ]
     },
     "execution_count": 96,
     "metadata": {},
     "output_type": "execute_result"
    }
   ],
   "source": [
    "mixed = []\n",
    "for i in range(len(market_conditions)):\n",
    "    mixed.append(list(zip(market_conditions[i], problailty)))\n",
    "mixed\n"
   ]
  },
  {
   "cell_type": "code",
   "execution_count": 97,
   "metadata": {},
   "outputs": [
    {
     "data": {
      "text/plain": [
       "(100000.0, 0.2)"
      ]
     },
     "execution_count": 97,
     "metadata": {},
     "output_type": "execute_result"
    }
   ],
   "source": [
    "mixed[1][0]"
   ]
  },
  {
   "cell_type": "code",
   "execution_count": 98,
   "metadata": {},
   "outputs": [],
   "source": [
    "def Evm(mixed):\n",
    "    Sum = []\n",
    "    for i in mixed:\n",
    "        sume = 0\n",
    "        for j in i:\n",
    "            \n",
    "            sume += j[0]*j[1]\n",
    "        Sum.append(sume)\n",
    "    return Sum\n",
    "\n",
    "EVM = Evm(mixed)\n",
    "           "
   ]
  },
  {
   "cell_type": "code",
   "execution_count": 99,
   "metadata": {},
   "outputs": [
    {
     "data": {
      "text/plain": [
       "[15500.0, 19500.0, 0.0]"
      ]
     },
     "execution_count": 99,
     "metadata": {},
     "output_type": "execute_result"
    }
   ],
   "source": [
    "EVM"
   ]
  },
  {
   "cell_type": "code",
   "execution_count": 100,
   "metadata": {},
   "outputs": [
    {
     "data": {
      "text/html": [
       "<div>\n",
       "<style scoped>\n",
       "    .dataframe tbody tr th:only-of-type {\n",
       "        vertical-align: middle;\n",
       "    }\n",
       "\n",
       "    .dataframe tbody tr th {\n",
       "        vertical-align: top;\n",
       "    }\n",
       "\n",
       "    .dataframe thead th {\n",
       "        text-align: right;\n",
       "    }\n",
       "</style>\n",
       "<table border=\"1\" class=\"dataframe\">\n",
       "  <thead>\n",
       "    <tr style=\"text-align: right;\">\n",
       "      <th></th>\n",
       "      <th>Alternateves</th>\n",
       "      <th>Good Market</th>\n",
       "      <th>Average Market</th>\n",
       "      <th>Bad Market</th>\n",
       "      <th>EVM</th>\n",
       "    </tr>\n",
       "  </thead>\n",
       "  <tbody>\n",
       "    <tr>\n",
       "      <th>0</th>\n",
       "      <td>Small shop</td>\n",
       "      <td>75000.0</td>\n",
       "      <td>25000.0</td>\n",
       "      <td>-40000.0</td>\n",
       "      <td>15500.0</td>\n",
       "    </tr>\n",
       "    <tr>\n",
       "      <th>1</th>\n",
       "      <td>Meduim Shop</td>\n",
       "      <td>100000.0</td>\n",
       "      <td>35000.0</td>\n",
       "      <td>-60000.0</td>\n",
       "      <td>19500.0</td>\n",
       "    </tr>\n",
       "    <tr>\n",
       "      <th>2</th>\n",
       "      <td>No shop</td>\n",
       "      <td>0.0</td>\n",
       "      <td>0.0</td>\n",
       "      <td>0.0</td>\n",
       "      <td>0.0</td>\n",
       "    </tr>\n",
       "    <tr>\n",
       "      <th>3</th>\n",
       "      <td>problailty</td>\n",
       "      <td>0.2</td>\n",
       "      <td>0.5</td>\n",
       "      <td>0.3</td>\n",
       "      <td>NaN</td>\n",
       "    </tr>\n",
       "  </tbody>\n",
       "</table>\n",
       "</div>"
      ],
      "text/plain": [
       "  Alternateves  Good Market  Average Market  Bad Market      EVM\n",
       "0   Small shop      75000.0         25000.0    -40000.0  15500.0\n",
       "1  Meduim Shop     100000.0         35000.0    -60000.0  19500.0\n",
       "2      No shop          0.0             0.0         0.0      0.0\n",
       "3   problailty          0.2             0.5         0.3      NaN"
      ]
     },
     "metadata": {},
     "output_type": "display_data"
    }
   ],
   "source": [
    "EVM.append(np.NAN)\n",
    "df[\"EVM\"] = EVM\n",
    "display(df)"
   ]
  },
  {
   "cell_type": "code",
   "execution_count": 101,
   "metadata": {},
   "outputs": [
    {
     "data": {
      "text/html": [
       "<div>\n",
       "<style scoped>\n",
       "    .dataframe tbody tr th:only-of-type {\n",
       "        vertical-align: middle;\n",
       "    }\n",
       "\n",
       "    .dataframe tbody tr th {\n",
       "        vertical-align: top;\n",
       "    }\n",
       "\n",
       "    .dataframe thead th {\n",
       "        text-align: right;\n",
       "    }\n",
       "</style>\n",
       "<table border=\"1\" class=\"dataframe\">\n",
       "  <thead>\n",
       "    <tr style=\"text-align: right;\">\n",
       "      <th></th>\n",
       "      <th>Alternateves</th>\n",
       "      <th>Good Market</th>\n",
       "      <th>Average Market</th>\n",
       "      <th>Bad Market</th>\n",
       "      <th>EVM</th>\n",
       "    </tr>\n",
       "  </thead>\n",
       "  <tbody>\n",
       "    <tr>\n",
       "      <th>1</th>\n",
       "      <td>Meduim Shop</td>\n",
       "      <td>100000.0</td>\n",
       "      <td>35000.0</td>\n",
       "      <td>-60000.0</td>\n",
       "      <td>19500.0</td>\n",
       "    </tr>\n",
       "  </tbody>\n",
       "</table>\n",
       "</div>"
      ],
      "text/plain": [
       "  Alternateves  Good Market  Average Market  Bad Market      EVM\n",
       "1  Meduim Shop     100000.0         35000.0    -60000.0  19500.0"
      ]
     },
     "execution_count": 101,
     "metadata": {},
     "output_type": "execute_result"
    }
   ],
   "source": [
    "#the decision to take is to build a meduim shop  \n",
    "df.loc[df[\"EVM\"] == df[\"EVM\"].max()]"
   ]
  },
  {
   "cell_type": "markdown",
   "metadata": {},
   "source": [
    "**Expected Opportunity Loss**\n",
    "An alternative approach to maximizing EMV is to minimize expected opportunity loss (EOL).\n",
    "First, an opportunity loss table is constructed. Then the EOL is computed for each alternative by\n",
    "multiplying the opportunity loss by the probability and adding these together."
   ]
  },
  {
   "cell_type": "markdown",
   "metadata": {},
   "source": [
    "EOL is the cost of not picking the best solution."
   ]
  },
  {
   "cell_type": "markdown",
   "metadata": {},
   "source": [
    "EOL will always result in the same decision as the maximum EMV"
   ]
  },
  {
   "cell_type": "markdown",
   "metadata": {},
   "source": [
    "regret table is needed first => max profit in a column - every column element"
   ]
  },
  {
   "cell_type": "code",
   "execution_count": 104,
   "metadata": {},
   "outputs": [
    {
     "data": {
      "text/plain": [
       "(100000.0, 35000.0, 0.3)"
      ]
     },
     "execution_count": 104,
     "metadata": {},
     "output_type": "execute_result"
    }
   ],
   "source": [
    "goodMarketMax = df[\"Good Market\"].max()\n",
    "averageMarketMax = df[\"Average Market\"].max()\n",
    "badMarketMax = df[\"Bad Market\"].max()\n",
    "goodMarketMax, averageMarketMax, badMarketMax\n"
   ]
  },
  {
   "cell_type": "code",
   "execution_count": 106,
   "metadata": {},
   "outputs": [
    {
     "data": {
      "text/html": [
       "<div>\n",
       "<style scoped>\n",
       "    .dataframe tbody tr th:only-of-type {\n",
       "        vertical-align: middle;\n",
       "    }\n",
       "\n",
       "    .dataframe tbody tr th {\n",
       "        vertical-align: top;\n",
       "    }\n",
       "\n",
       "    .dataframe thead th {\n",
       "        text-align: right;\n",
       "    }\n",
       "</style>\n",
       "<table border=\"1\" class=\"dataframe\">\n",
       "  <thead>\n",
       "    <tr style=\"text-align: right;\">\n",
       "      <th></th>\n",
       "      <th>Alternateves</th>\n",
       "      <th>Good Market</th>\n",
       "      <th>Average Market</th>\n",
       "      <th>Bad Market</th>\n",
       "      <th>EVM</th>\n",
       "      <th>Regret for Good Market</th>\n",
       "      <th>Regret for the Average Market</th>\n",
       "      <th>Regret for the Bad Market</th>\n",
       "    </tr>\n",
       "  </thead>\n",
       "  <tbody>\n",
       "    <tr>\n",
       "      <th>0</th>\n",
       "      <td>Small shop</td>\n",
       "      <td>75000.0</td>\n",
       "      <td>25000.0</td>\n",
       "      <td>-40000.0</td>\n",
       "      <td>15500.0</td>\n",
       "      <td>25000.0</td>\n",
       "      <td>10000.0</td>\n",
       "      <td>40000.3</td>\n",
       "    </tr>\n",
       "    <tr>\n",
       "      <th>1</th>\n",
       "      <td>Meduim Shop</td>\n",
       "      <td>100000.0</td>\n",
       "      <td>35000.0</td>\n",
       "      <td>-60000.0</td>\n",
       "      <td>19500.0</td>\n",
       "      <td>0.0</td>\n",
       "      <td>0.0</td>\n",
       "      <td>60000.3</td>\n",
       "    </tr>\n",
       "    <tr>\n",
       "      <th>2</th>\n",
       "      <td>No shop</td>\n",
       "      <td>0.0</td>\n",
       "      <td>0.0</td>\n",
       "      <td>0.0</td>\n",
       "      <td>0.0</td>\n",
       "      <td>100000.0</td>\n",
       "      <td>35000.0</td>\n",
       "      <td>0.3</td>\n",
       "    </tr>\n",
       "    <tr>\n",
       "      <th>3</th>\n",
       "      <td>problailty</td>\n",
       "      <td>0.2</td>\n",
       "      <td>0.5</td>\n",
       "      <td>0.3</td>\n",
       "      <td>NaN</td>\n",
       "      <td>NaN</td>\n",
       "      <td>NaN</td>\n",
       "      <td>NaN</td>\n",
       "    </tr>\n",
       "  </tbody>\n",
       "</table>\n",
       "</div>"
      ],
      "text/plain": [
       "  Alternateves  Good Market  Average Market  Bad Market      EVM  \\\n",
       "0   Small shop      75000.0         25000.0    -40000.0  15500.0   \n",
       "1  Meduim Shop     100000.0         35000.0    -60000.0  19500.0   \n",
       "2      No shop          0.0             0.0         0.0      0.0   \n",
       "3   problailty          0.2             0.5         0.3      NaN   \n",
       "\n",
       "   Regret for Good Market  Regret for the Average Market  \\\n",
       "0                 25000.0                        10000.0   \n",
       "1                     0.0                            0.0   \n",
       "2                100000.0                        35000.0   \n",
       "3                     NaN                            NaN   \n",
       "\n",
       "   Regret for the Bad Market  \n",
       "0                    40000.3  \n",
       "1                    60000.3  \n",
       "2                        0.3  \n",
       "3                        NaN  "
      ]
     },
     "execution_count": 106,
     "metadata": {},
     "output_type": "execute_result"
    }
   ],
   "source": [
    "df[\"Regret for Good Market\"] = goodMarketMax - df[\"Good Market\"][:3]\n",
    "df[\"Regret for the Average Market\"] = averageMarketMax - df[\"Average Market\"][:3]\n",
    "df[\"Regret for the Bad Market\"] = badMarketMax - df[\"Bad Market\"][:3]\n",
    "\n",
    "df"
   ]
  },
  {
   "cell_type": "code",
   "execution_count": 128,
   "metadata": {},
   "outputs": [
    {
     "data": {
      "text/html": [
       "<div>\n",
       "<style scoped>\n",
       "    .dataframe tbody tr th:only-of-type {\n",
       "        vertical-align: middle;\n",
       "    }\n",
       "\n",
       "    .dataframe tbody tr th {\n",
       "        vertical-align: top;\n",
       "    }\n",
       "\n",
       "    .dataframe thead th {\n",
       "        text-align: right;\n",
       "    }\n",
       "</style>\n",
       "<table border=\"1\" class=\"dataframe\">\n",
       "  <thead>\n",
       "    <tr style=\"text-align: right;\">\n",
       "      <th></th>\n",
       "      <th>Regret for Good Market</th>\n",
       "      <th>Regret for the Average Market</th>\n",
       "      <th>Regret for the Bad Market</th>\n",
       "      <th>Max</th>\n",
       "    </tr>\n",
       "  </thead>\n",
       "  <tbody>\n",
       "    <tr>\n",
       "      <th>0</th>\n",
       "      <td>25000.0</td>\n",
       "      <td>10000.0</td>\n",
       "      <td>40000.3</td>\n",
       "      <td>40000.3</td>\n",
       "    </tr>\n",
       "    <tr>\n",
       "      <th>1</th>\n",
       "      <td>0.0</td>\n",
       "      <td>0.0</td>\n",
       "      <td>60000.3</td>\n",
       "      <td>60000.3</td>\n",
       "    </tr>\n",
       "    <tr>\n",
       "      <th>2</th>\n",
       "      <td>100000.0</td>\n",
       "      <td>35000.0</td>\n",
       "      <td>0.3</td>\n",
       "      <td>100000.0</td>\n",
       "    </tr>\n",
       "  </tbody>\n",
       "</table>\n",
       "</div>"
      ],
      "text/plain": [
       "   Regret for Good Market  Regret for the Average Market  \\\n",
       "0                 25000.0                        10000.0   \n",
       "1                     0.0                            0.0   \n",
       "2                100000.0                        35000.0   \n",
       "\n",
       "   Regret for the Bad Market       Max  \n",
       "0                    40000.3   40000.3  \n",
       "1                    60000.3   60000.3  \n",
       "2                        0.3  100000.0  "
      ]
     },
     "metadata": {},
     "output_type": "display_data"
    }
   ],
   "source": [
    "Regret = df.iloc[:3, 5::]\n",
    "\n",
    "\n",
    "Regret[\"Max\"] = [max(Regret[\"Regret for Good Market\"][i],\n",
    "                 Regret[\"Regret for the Average Market\"][i], \n",
    "                 Regret[\"Regret for the Bad Market\"][i]) \n",
    "                 for i in range(len(Regret))\n",
    "                 \n",
    "                 ]\n",
    "display(Regret)"
   ]
  },
  {
   "cell_type": "code",
   "execution_count": 141,
   "metadata": {},
   "outputs": [
    {
     "data": {
      "text/plain": [
       "['Regret for Good Market',\n",
       " 'Regret for the Average Market',\n",
       " 'Regret for the Bad Market']"
      ]
     },
     "execution_count": 141,
     "metadata": {},
     "output_type": "execute_result"
    }
   ],
   "source": [
    "Columns = Regret.columns[:-1].to_list()\n",
    "Columns\n"
   ]
  },
  {
   "cell_type": "code",
   "execution_count": 158,
   "metadata": {},
   "outputs": [
    {
     "name": "stdout",
     "output_type": "stream",
     "text": [
      "EOL => [[5000.0, 0.0, 20000.0], [5000.0, 0.0, 17500.0], [12000.09, 18000.09, 0.09]]\n"
     ]
    },
    {
     "data": {
      "text/html": [
       "<div>\n",
       "<style scoped>\n",
       "    .dataframe tbody tr th:only-of-type {\n",
       "        vertical-align: middle;\n",
       "    }\n",
       "\n",
       "    .dataframe tbody tr th {\n",
       "        vertical-align: top;\n",
       "    }\n",
       "\n",
       "    .dataframe thead th {\n",
       "        text-align: right;\n",
       "    }\n",
       "</style>\n",
       "<table border=\"1\" class=\"dataframe\">\n",
       "  <thead>\n",
       "    <tr style=\"text-align: right;\">\n",
       "      <th></th>\n",
       "      <th>Regret for Good Market</th>\n",
       "      <th>Regret for the Average Market</th>\n",
       "      <th>Regret for the Bad Market</th>\n",
       "      <th>Max</th>\n",
       "      <th>EOL</th>\n",
       "    </tr>\n",
       "  </thead>\n",
       "  <tbody>\n",
       "    <tr>\n",
       "      <th>0</th>\n",
       "      <td>25000.0</td>\n",
       "      <td>10000.0</td>\n",
       "      <td>40000.3</td>\n",
       "      <td>40000.3</td>\n",
       "      <td>22000.09</td>\n",
       "    </tr>\n",
       "    <tr>\n",
       "      <th>1</th>\n",
       "      <td>0.0</td>\n",
       "      <td>0.0</td>\n",
       "      <td>60000.3</td>\n",
       "      <td>60000.3</td>\n",
       "      <td>18000.09</td>\n",
       "    </tr>\n",
       "    <tr>\n",
       "      <th>2</th>\n",
       "      <td>100000.0</td>\n",
       "      <td>35000.0</td>\n",
       "      <td>0.3</td>\n",
       "      <td>100000.0</td>\n",
       "      <td>37500.09</td>\n",
       "    </tr>\n",
       "  </tbody>\n",
       "</table>\n",
       "</div>"
      ],
      "text/plain": [
       "   Regret for Good Market  Regret for the Average Market  \\\n",
       "0                 25000.0                        10000.0   \n",
       "1                     0.0                            0.0   \n",
       "2                100000.0                        35000.0   \n",
       "\n",
       "   Regret for the Bad Market       Max       EOL  \n",
       "0                    40000.3   40000.3  22000.09  \n",
       "1                    60000.3   60000.3  18000.09  \n",
       "2                        0.3  100000.0  37500.09  "
      ]
     },
     "metadata": {},
     "output_type": "display_data"
    }
   ],
   "source": [
    "#EOL \n",
    "# Expected value = ∑ (Regret)* probapilty(Regret)\n",
    "def EOL(problailty, Regret):\n",
    "    Eol = []\n",
    "    summ = []\n",
    "  \n",
    "    for i in range(len(Regret)):\n",
    "        Eol.append([Regret[Columns[i]][j]*problailty[i] for j in range(len(Regret))])\n",
    "    print(\"EOL =>\", Eol)\n",
    "    for j in range(len(Eol[0])):\n",
    "        sume = 0\n",
    "        for i in range(len(Eol)):\n",
    "           sume += Eol[i][j]\n",
    "        summ.append(sume)\n",
    "    \n",
    "    \n",
    "    \n",
    "    return summ\n",
    "EOL = EOL(problailty=problailty, Regret=Regret)\n",
    "Regret[\"EOL\"] = EOL\n",
    "display(Regret)"
   ]
  },
  {
   "cell_type": "code",
   "execution_count": null,
   "metadata": {},
   "outputs": [],
   "source": []
  }
 ],
 "metadata": {
  "kernelspec": {
   "display_name": "Python 3.9.12 ('base')",
   "language": "python",
   "name": "python3"
  },
  "language_info": {
   "codemirror_mode": {
    "name": "ipython",
    "version": 3
   },
   "file_extension": ".py",
   "mimetype": "text/x-python",
   "name": "python",
   "nbconvert_exporter": "python",
   "pygments_lexer": "ipython3",
   "version": "3.9.12"
  },
  "orig_nbformat": 4,
  "vscode": {
   "interpreter": {
    "hash": "4b9c4346514f1c75c3f75b46c44207535026684b90417d2a4d1ec0e73da03737"
   }
  }
 },
 "nbformat": 4,
 "nbformat_minor": 2
}
