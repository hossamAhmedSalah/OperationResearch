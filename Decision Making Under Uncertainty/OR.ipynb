{
 "cells": [
  {
   "cell_type": "code",
   "execution_count": 172,
   "metadata": {},
   "outputs": [],
   "source": [
    "import numpy as np\n",
    "import pandas as pd\n",
    "import matplotlib.pyplot as plt"
   ]
  },
  {
   "cell_type": "code",
   "execution_count": 173,
   "metadata": {},
   "outputs": [],
   "source": [
    "data = {\n",
    "    \"Alternative\" : [\"construct larg plant\", \"constrcut small plant\", \"do no thing\"],\n",
    "    \"FAVORABLE MARKET\" : [200_000, 100_000, 0],\n",
    "    \"UNFAVORABLE MARKET\" : [-180_000, -20_000, 0]\n",
    "\n",
    "}"
   ]
  },
  {
   "cell_type": "code",
   "execution_count": 174,
   "metadata": {},
   "outputs": [
    {
     "data": {
      "text/html": [
       "<div>\n",
       "<style scoped>\n",
       "    .dataframe tbody tr th:only-of-type {\n",
       "        vertical-align: middle;\n",
       "    }\n",
       "\n",
       "    .dataframe tbody tr th {\n",
       "        vertical-align: top;\n",
       "    }\n",
       "\n",
       "    .dataframe thead th {\n",
       "        text-align: right;\n",
       "    }\n",
       "</style>\n",
       "<table border=\"1\" class=\"dataframe\">\n",
       "  <thead>\n",
       "    <tr style=\"text-align: right;\">\n",
       "      <th></th>\n",
       "      <th>Alternative</th>\n",
       "      <th>FAVORABLE MARKET</th>\n",
       "      <th>UNFAVORABLE MARKET</th>\n",
       "    </tr>\n",
       "  </thead>\n",
       "  <tbody>\n",
       "    <tr>\n",
       "      <th>0</th>\n",
       "      <td>construct larg plant</td>\n",
       "      <td>200000</td>\n",
       "      <td>-180000</td>\n",
       "    </tr>\n",
       "    <tr>\n",
       "      <th>1</th>\n",
       "      <td>constrcut small plant</td>\n",
       "      <td>100000</td>\n",
       "      <td>-20000</td>\n",
       "    </tr>\n",
       "    <tr>\n",
       "      <th>2</th>\n",
       "      <td>do no thing</td>\n",
       "      <td>0</td>\n",
       "      <td>0</td>\n",
       "    </tr>\n",
       "  </tbody>\n",
       "</table>\n",
       "</div>"
      ],
      "text/plain": [
       "             Alternative  FAVORABLE MARKET  UNFAVORABLE MARKET\n",
       "0   construct larg plant            200000             -180000\n",
       "1  constrcut small plant            100000              -20000\n",
       "2            do no thing                 0                   0"
      ]
     },
     "execution_count": 174,
     "metadata": {},
     "output_type": "execute_result"
    }
   ],
   "source": [
    "df = pd.DataFrame(data)\n",
    "df"
   ]
  },
  {
   "cell_type": "markdown",
   "metadata": {},
   "source": [
    "**Decision Making Under Uncertainty**"
   ]
  },
  {
   "cell_type": "markdown",
   "metadata": {},
   "source": [
    "1. Maximax (optimistic)\n",
    "2. Maximin (pessimistic)\n",
    "3. Criterion of realism (Hurwicz)\n",
    "4. Equally likely (Laplace) \n",
    "5. Minimax regret"
   ]
  },
  {
   "cell_type": "markdown",
   "metadata": {},
   "source": [
    "*Maximax*\n",
    "Used to find the alternative that maximizes the \n",
    "maximum payoff ==> find what is the max profit\n",
    "1. Locate the maximum payoff for each alternative.✅\n",
    "2. Select the alternative with the maximum number.✅"
   ]
  },
  {
   "cell_type": "code",
   "execution_count": 175,
   "metadata": {},
   "outputs": [
    {
     "data": {
      "text/plain": [
       "[200000, 100000, 0]"
      ]
     },
     "execution_count": 175,
     "metadata": {},
     "output_type": "execute_result"
    }
   ],
   "source": [
    "Max = [max(df[\"FAVORABLE MARKET\"][i], df[\"FAVORABLE MARKET\"][i]) for i in range(len(df))]\n",
    "Max"
   ]
  },
  {
   "cell_type": "code",
   "execution_count": 176,
   "metadata": {},
   "outputs": [
    {
     "data": {
      "text/html": [
       "<div>\n",
       "<style scoped>\n",
       "    .dataframe tbody tr th:only-of-type {\n",
       "        vertical-align: middle;\n",
       "    }\n",
       "\n",
       "    .dataframe tbody tr th {\n",
       "        vertical-align: top;\n",
       "    }\n",
       "\n",
       "    .dataframe thead th {\n",
       "        text-align: right;\n",
       "    }\n",
       "</style>\n",
       "<table border=\"1\" class=\"dataframe\">\n",
       "  <thead>\n",
       "    <tr style=\"text-align: right;\">\n",
       "      <th></th>\n",
       "      <th>Alternative</th>\n",
       "      <th>FAVORABLE MARKET</th>\n",
       "      <th>UNFAVORABLE MARKET</th>\n",
       "      <th>MAX</th>\n",
       "    </tr>\n",
       "  </thead>\n",
       "  <tbody>\n",
       "    <tr>\n",
       "      <th>0</th>\n",
       "      <td>construct larg plant</td>\n",
       "      <td>200000</td>\n",
       "      <td>-180000</td>\n",
       "      <td>200000</td>\n",
       "    </tr>\n",
       "    <tr>\n",
       "      <th>1</th>\n",
       "      <td>constrcut small plant</td>\n",
       "      <td>100000</td>\n",
       "      <td>-20000</td>\n",
       "      <td>100000</td>\n",
       "    </tr>\n",
       "    <tr>\n",
       "      <th>2</th>\n",
       "      <td>do no thing</td>\n",
       "      <td>0</td>\n",
       "      <td>0</td>\n",
       "      <td>0</td>\n",
       "    </tr>\n",
       "  </tbody>\n",
       "</table>\n",
       "</div>"
      ],
      "text/plain": [
       "             Alternative  FAVORABLE MARKET  UNFAVORABLE MARKET     MAX\n",
       "0   construct larg plant            200000             -180000  200000\n",
       "1  constrcut small plant            100000              -20000  100000\n",
       "2            do no thing                 0                   0       0"
      ]
     },
     "execution_count": 176,
     "metadata": {},
     "output_type": "execute_result"
    }
   ],
   "source": [
    "df[\"MAX\"] = Max\n",
    "df"
   ]
  },
  {
   "cell_type": "code",
   "execution_count": 177,
   "metadata": {},
   "outputs": [
    {
     "data": {
      "text/html": [
       "<div>\n",
       "<style scoped>\n",
       "    .dataframe tbody tr th:only-of-type {\n",
       "        vertical-align: middle;\n",
       "    }\n",
       "\n",
       "    .dataframe tbody tr th {\n",
       "        vertical-align: top;\n",
       "    }\n",
       "\n",
       "    .dataframe thead th {\n",
       "        text-align: right;\n",
       "    }\n",
       "</style>\n",
       "<table border=\"1\" class=\"dataframe\">\n",
       "  <thead>\n",
       "    <tr style=\"text-align: right;\">\n",
       "      <th></th>\n",
       "      <th>Alternative</th>\n",
       "      <th>FAVORABLE MARKET</th>\n",
       "      <th>UNFAVORABLE MARKET</th>\n",
       "      <th>MAX</th>\n",
       "    </tr>\n",
       "  </thead>\n",
       "  <tbody>\n",
       "    <tr>\n",
       "      <th>0</th>\n",
       "      <td>construct larg plant</td>\n",
       "      <td>200000</td>\n",
       "      <td>-180000</td>\n",
       "      <td>200000</td>\n",
       "    </tr>\n",
       "  </tbody>\n",
       "</table>\n",
       "</div>"
      ],
      "text/plain": [
       "            Alternative  FAVORABLE MARKET  UNFAVORABLE MARKET     MAX\n",
       "0  construct larg plant            200000             -180000  200000"
      ]
     },
     "execution_count": 177,
     "metadata": {},
     "output_type": "execute_result"
    }
   ],
   "source": [
    "df.loc[df.MAX == df.MAX.max()]"
   ]
  },
  {
   "cell_type": "markdown",
   "metadata": {},
   "source": [
    "*Maximin*\n",
    "Used to find the alternative that maximizes \n",
    "the minimum payoff.\n",
    "1. Locate the minimum payoff for each alternative.\n",
    "2. Select the alternative with the maximum \n",
    "number."
   ]
  },
  {
   "cell_type": "code",
   "execution_count": 178,
   "metadata": {},
   "outputs": [],
   "source": [
    "df.drop(columns=\"MAX\", inplace = True)\n",
    "#inplace makes sure that the Column is deleted "
   ]
  },
  {
   "cell_type": "code",
   "execution_count": 179,
   "metadata": {},
   "outputs": [
    {
     "data": {
      "text/html": [
       "<div>\n",
       "<style scoped>\n",
       "    .dataframe tbody tr th:only-of-type {\n",
       "        vertical-align: middle;\n",
       "    }\n",
       "\n",
       "    .dataframe tbody tr th {\n",
       "        vertical-align: top;\n",
       "    }\n",
       "\n",
       "    .dataframe thead th {\n",
       "        text-align: right;\n",
       "    }\n",
       "</style>\n",
       "<table border=\"1\" class=\"dataframe\">\n",
       "  <thead>\n",
       "    <tr style=\"text-align: right;\">\n",
       "      <th></th>\n",
       "      <th>Alternative</th>\n",
       "      <th>FAVORABLE MARKET</th>\n",
       "      <th>UNFAVORABLE MARKET</th>\n",
       "      <th>Min</th>\n",
       "    </tr>\n",
       "  </thead>\n",
       "  <tbody>\n",
       "    <tr>\n",
       "      <th>0</th>\n",
       "      <td>construct larg plant</td>\n",
       "      <td>200000</td>\n",
       "      <td>-180000</td>\n",
       "      <td>-180000</td>\n",
       "    </tr>\n",
       "    <tr>\n",
       "      <th>1</th>\n",
       "      <td>constrcut small plant</td>\n",
       "      <td>100000</td>\n",
       "      <td>-20000</td>\n",
       "      <td>-20000</td>\n",
       "    </tr>\n",
       "    <tr>\n",
       "      <th>2</th>\n",
       "      <td>do no thing</td>\n",
       "      <td>0</td>\n",
       "      <td>0</td>\n",
       "      <td>0</td>\n",
       "    </tr>\n",
       "  </tbody>\n",
       "</table>\n",
       "</div>"
      ],
      "text/plain": [
       "             Alternative  FAVORABLE MARKET  UNFAVORABLE MARKET     Min\n",
       "0   construct larg plant            200000             -180000 -180000\n",
       "1  constrcut small plant            100000              -20000  -20000\n",
       "2            do no thing                 0                   0       0"
      ]
     },
     "execution_count": 179,
     "metadata": {},
     "output_type": "execute_result"
    }
   ],
   "source": [
    "#min calculating for each row\n",
    "Min = [min(df[\"FAVORABLE MARKET\"][i], df[\"UNFAVORABLE MARKET\"][i]) for i in range(len(df))]\n",
    "df[\"Min\"] = Min\n",
    "df"
   ]
  },
  {
   "cell_type": "code",
   "execution_count": 180,
   "metadata": {},
   "outputs": [
    {
     "data": {
      "text/html": [
       "<div>\n",
       "<style scoped>\n",
       "    .dataframe tbody tr th:only-of-type {\n",
       "        vertical-align: middle;\n",
       "    }\n",
       "\n",
       "    .dataframe tbody tr th {\n",
       "        vertical-align: top;\n",
       "    }\n",
       "\n",
       "    .dataframe thead th {\n",
       "        text-align: right;\n",
       "    }\n",
       "</style>\n",
       "<table border=\"1\" class=\"dataframe\">\n",
       "  <thead>\n",
       "    <tr style=\"text-align: right;\">\n",
       "      <th></th>\n",
       "      <th>Alternative</th>\n",
       "      <th>FAVORABLE MARKET</th>\n",
       "      <th>UNFAVORABLE MARKET</th>\n",
       "      <th>Min</th>\n",
       "    </tr>\n",
       "  </thead>\n",
       "  <tbody>\n",
       "    <tr>\n",
       "      <th>2</th>\n",
       "      <td>do no thing</td>\n",
       "      <td>0</td>\n",
       "      <td>0</td>\n",
       "      <td>0</td>\n",
       "    </tr>\n",
       "  </tbody>\n",
       "</table>\n",
       "</div>"
      ],
      "text/plain": [
       "   Alternative  FAVORABLE MARKET  UNFAVORABLE MARKET  Min\n",
       "2  do no thing                 0                   0    0"
      ]
     },
     "execution_count": 180,
     "metadata": {},
     "output_type": "execute_result"
    }
   ],
   "source": [
    "#max of minumin values of profits\n",
    "#max less profit that you are going to gain 💸 \n",
    "#find the best way to lose \n",
    "#max loses then less lose\n",
    "df.loc[df.Min == df.Min.max()]\n"
   ]
  },
  {
   "cell_type": "markdown",
   "metadata": {},
   "source": [
    "**Criterion of Realism (Hurwicz)**\n",
    "just a method in between the MaxMax and MaxMin \n",
    "\n",
    "\n"
   ]
  },
  {
   "cell_type": "markdown",
   "metadata": {},
   "source": [
    "**Weighted average = ɑ(maximum in row) + (1 – ɑ)(minimum in row)**"
   ]
  },
  {
   "cell_type": "code",
   "execution_count": 181,
   "metadata": {},
   "outputs": [
    {
     "data": {
      "text/html": [
       "<div>\n",
       "<style scoped>\n",
       "    .dataframe tbody tr th:only-of-type {\n",
       "        vertical-align: middle;\n",
       "    }\n",
       "\n",
       "    .dataframe tbody tr th {\n",
       "        vertical-align: top;\n",
       "    }\n",
       "\n",
       "    .dataframe thead th {\n",
       "        text-align: right;\n",
       "    }\n",
       "</style>\n",
       "<table border=\"1\" class=\"dataframe\">\n",
       "  <thead>\n",
       "    <tr style=\"text-align: right;\">\n",
       "      <th></th>\n",
       "      <th>Alternative</th>\n",
       "      <th>FAVORABLE MARKET</th>\n",
       "      <th>UNFAVORABLE MARKET</th>\n",
       "    </tr>\n",
       "  </thead>\n",
       "  <tbody>\n",
       "    <tr>\n",
       "      <th>0</th>\n",
       "      <td>construct larg plant</td>\n",
       "      <td>200000</td>\n",
       "      <td>-180000</td>\n",
       "    </tr>\n",
       "    <tr>\n",
       "      <th>1</th>\n",
       "      <td>constrcut small plant</td>\n",
       "      <td>100000</td>\n",
       "      <td>-20000</td>\n",
       "    </tr>\n",
       "    <tr>\n",
       "      <th>2</th>\n",
       "      <td>do no thing</td>\n",
       "      <td>0</td>\n",
       "      <td>0</td>\n",
       "    </tr>\n",
       "  </tbody>\n",
       "</table>\n",
       "</div>"
      ],
      "text/plain": [
       "             Alternative  FAVORABLE MARKET  UNFAVORABLE MARKET\n",
       "0   construct larg plant            200000             -180000\n",
       "1  constrcut small plant            100000              -20000\n",
       "2            do no thing                 0                   0"
      ]
     },
     "execution_count": 181,
     "metadata": {},
     "output_type": "execute_result"
    }
   ],
   "source": [
    "df.drop(columns=\"Min\", inplace=True)\n",
    "df"
   ]
  },
  {
   "cell_type": "code",
   "execution_count": 182,
   "metadata": {},
   "outputs": [
    {
     "data": {
      "text/html": [
       "<div>\n",
       "<style scoped>\n",
       "    .dataframe tbody tr th:only-of-type {\n",
       "        vertical-align: middle;\n",
       "    }\n",
       "\n",
       "    .dataframe tbody tr th {\n",
       "        vertical-align: top;\n",
       "    }\n",
       "\n",
       "    .dataframe thead th {\n",
       "        text-align: right;\n",
       "    }\n",
       "</style>\n",
       "<table border=\"1\" class=\"dataframe\">\n",
       "  <thead>\n",
       "    <tr style=\"text-align: right;\">\n",
       "      <th></th>\n",
       "      <th>Alternative</th>\n",
       "      <th>FAVORABLE MARKET</th>\n",
       "      <th>UNFAVORABLE MARKET</th>\n",
       "      <th>MAX in Row</th>\n",
       "      <th>MIN in Row</th>\n",
       "    </tr>\n",
       "  </thead>\n",
       "  <tbody>\n",
       "    <tr>\n",
       "      <th>0</th>\n",
       "      <td>construct larg plant</td>\n",
       "      <td>200000</td>\n",
       "      <td>-180000</td>\n",
       "      <td>200000</td>\n",
       "      <td>-180000</td>\n",
       "    </tr>\n",
       "    <tr>\n",
       "      <th>1</th>\n",
       "      <td>constrcut small plant</td>\n",
       "      <td>100000</td>\n",
       "      <td>-20000</td>\n",
       "      <td>100000</td>\n",
       "      <td>-20000</td>\n",
       "    </tr>\n",
       "    <tr>\n",
       "      <th>2</th>\n",
       "      <td>do no thing</td>\n",
       "      <td>0</td>\n",
       "      <td>0</td>\n",
       "      <td>0</td>\n",
       "      <td>0</td>\n",
       "    </tr>\n",
       "  </tbody>\n",
       "</table>\n",
       "</div>"
      ],
      "text/plain": [
       "             Alternative  FAVORABLE MARKET  UNFAVORABLE MARKET  MAX in Row  \\\n",
       "0   construct larg plant            200000             -180000      200000   \n",
       "1  constrcut small plant            100000              -20000      100000   \n",
       "2            do no thing                 0                   0           0   \n",
       "\n",
       "   MIN in Row  \n",
       "0     -180000  \n",
       "1      -20000  \n",
       "2           0  "
      ]
     },
     "execution_count": 182,
     "metadata": {},
     "output_type": "execute_result"
    }
   ],
   "source": [
    "df[\"MAX in Row\"] = [max(df[\"UNFAVORABLE MARKET\"][i], df[\"FAVORABLE MARKET\"][i]) for i in range(len(df))]\n",
    "df[\"MIN in Row\"] = [min(df[\"UNFAVORABLE MARKET\"][i], df[\"FAVORABLE MARKET\"][i]) for i in range(len(df))]\n",
    "df"
   ]
  },
  {
   "cell_type": "code",
   "execution_count": 183,
   "metadata": {},
   "outputs": [
    {
     "data": {
      "text/html": [
       "<div>\n",
       "<style scoped>\n",
       "    .dataframe tbody tr th:only-of-type {\n",
       "        vertical-align: middle;\n",
       "    }\n",
       "\n",
       "    .dataframe tbody tr th {\n",
       "        vertical-align: top;\n",
       "    }\n",
       "\n",
       "    .dataframe thead th {\n",
       "        text-align: right;\n",
       "    }\n",
       "</style>\n",
       "<table border=\"1\" class=\"dataframe\">\n",
       "  <thead>\n",
       "    <tr style=\"text-align: right;\">\n",
       "      <th></th>\n",
       "      <th>Alternative</th>\n",
       "      <th>FAVORABLE MARKET</th>\n",
       "      <th>UNFAVORABLE MARKET</th>\n",
       "      <th>MAX in Row</th>\n",
       "      <th>MIN in Row</th>\n",
       "      <th>Weighted Average</th>\n",
       "    </tr>\n",
       "  </thead>\n",
       "  <tbody>\n",
       "    <tr>\n",
       "      <th>0</th>\n",
       "      <td>construct larg plant</td>\n",
       "      <td>200000</td>\n",
       "      <td>-180000</td>\n",
       "      <td>200000</td>\n",
       "      <td>-180000</td>\n",
       "      <td>124000.0</td>\n",
       "    </tr>\n",
       "    <tr>\n",
       "      <th>1</th>\n",
       "      <td>constrcut small plant</td>\n",
       "      <td>100000</td>\n",
       "      <td>-20000</td>\n",
       "      <td>100000</td>\n",
       "      <td>-20000</td>\n",
       "      <td>76000.0</td>\n",
       "    </tr>\n",
       "    <tr>\n",
       "      <th>2</th>\n",
       "      <td>do no thing</td>\n",
       "      <td>0</td>\n",
       "      <td>0</td>\n",
       "      <td>0</td>\n",
       "      <td>0</td>\n",
       "      <td>0.0</td>\n",
       "    </tr>\n",
       "  </tbody>\n",
       "</table>\n",
       "</div>"
      ],
      "text/plain": [
       "             Alternative  FAVORABLE MARKET  UNFAVORABLE MARKET  MAX in Row  \\\n",
       "0   construct larg plant            200000             -180000      200000   \n",
       "1  constrcut small plant            100000              -20000      100000   \n",
       "2            do no thing                 0                   0           0   \n",
       "\n",
       "   MIN in Row  Weighted Average  \n",
       "0     -180000          124000.0  \n",
       "1      -20000           76000.0  \n",
       "2           0               0.0  "
      ]
     },
     "execution_count": 183,
     "metadata": {},
     "output_type": "execute_result"
    }
   ],
   "source": [
    "def weighted_Ave(Alpha, MaxInRow, MinInRow):\n",
    "   return  Alpha*MaxInRow + (1-Alpha)*MinInRow\n",
    "df[\"Weighted Average\"] = [weighted_Ave(0.8, df[\"MAX in Row\"][i], df[\"MIN in Row\"][i]) for i in range(len(df))]\n",
    "df\n",
    "    \n"
   ]
  },
  {
   "cell_type": "code",
   "execution_count": 184,
   "metadata": {},
   "outputs": [
    {
     "data": {
      "text/html": [
       "<div>\n",
       "<style scoped>\n",
       "    .dataframe tbody tr th:only-of-type {\n",
       "        vertical-align: middle;\n",
       "    }\n",
       "\n",
       "    .dataframe tbody tr th {\n",
       "        vertical-align: top;\n",
       "    }\n",
       "\n",
       "    .dataframe thead th {\n",
       "        text-align: right;\n",
       "    }\n",
       "</style>\n",
       "<table border=\"1\" class=\"dataframe\">\n",
       "  <thead>\n",
       "    <tr style=\"text-align: right;\">\n",
       "      <th></th>\n",
       "      <th>Alternative</th>\n",
       "      <th>FAVORABLE MARKET</th>\n",
       "      <th>UNFAVORABLE MARKET</th>\n",
       "      <th>MAX in Row</th>\n",
       "      <th>MIN in Row</th>\n",
       "      <th>Weighted Average</th>\n",
       "    </tr>\n",
       "  </thead>\n",
       "  <tbody>\n",
       "    <tr>\n",
       "      <th>0</th>\n",
       "      <td>construct larg plant</td>\n",
       "      <td>200000</td>\n",
       "      <td>-180000</td>\n",
       "      <td>200000</td>\n",
       "      <td>-180000</td>\n",
       "      <td>124000.0</td>\n",
       "    </tr>\n",
       "  </tbody>\n",
       "</table>\n",
       "</div>"
      ],
      "text/plain": [
       "            Alternative  FAVORABLE MARKET  UNFAVORABLE MARKET  MAX in Row  \\\n",
       "0  construct larg plant            200000             -180000      200000   \n",
       "\n",
       "   MIN in Row  Weighted Average  \n",
       "0     -180000          124000.0  "
      ]
     },
     "execution_count": 184,
     "metadata": {},
     "output_type": "execute_result"
    }
   ],
   "source": [
    "#final decision based on the max average\n",
    "#when Alpha is 0.8\n",
    "df.loc[df[\"Weighted Average\"] == df[\"Weighted Average\"].max()]"
   ]
  },
  {
   "cell_type": "markdown",
   "metadata": {},
   "source": [
    "**Equally Likely (Laplace)**\n",
    "Considers all the payoffs for each alternative \n",
    "1. Find the average payoff for each alternative.\n",
    "2. Select the alternative with the highest average."
   ]
  },
  {
   "cell_type": "code",
   "execution_count": 185,
   "metadata": {},
   "outputs": [
    {
     "data": {
      "text/html": [
       "<div>\n",
       "<style scoped>\n",
       "    .dataframe tbody tr th:only-of-type {\n",
       "        vertical-align: middle;\n",
       "    }\n",
       "\n",
       "    .dataframe tbody tr th {\n",
       "        vertical-align: top;\n",
       "    }\n",
       "\n",
       "    .dataframe thead th {\n",
       "        text-align: right;\n",
       "    }\n",
       "</style>\n",
       "<table border=\"1\" class=\"dataframe\">\n",
       "  <thead>\n",
       "    <tr style=\"text-align: right;\">\n",
       "      <th></th>\n",
       "      <th>Alternative</th>\n",
       "      <th>FAVORABLE MARKET</th>\n",
       "      <th>UNFAVORABLE MARKET</th>\n",
       "    </tr>\n",
       "  </thead>\n",
       "  <tbody>\n",
       "    <tr>\n",
       "      <th>0</th>\n",
       "      <td>construct larg plant</td>\n",
       "      <td>200000</td>\n",
       "      <td>-180000</td>\n",
       "    </tr>\n",
       "    <tr>\n",
       "      <th>1</th>\n",
       "      <td>constrcut small plant</td>\n",
       "      <td>100000</td>\n",
       "      <td>-20000</td>\n",
       "    </tr>\n",
       "    <tr>\n",
       "      <th>2</th>\n",
       "      <td>do no thing</td>\n",
       "      <td>0</td>\n",
       "      <td>0</td>\n",
       "    </tr>\n",
       "  </tbody>\n",
       "</table>\n",
       "</div>"
      ],
      "text/plain": [
       "             Alternative  FAVORABLE MARKET  UNFAVORABLE MARKET\n",
       "0   construct larg plant            200000             -180000\n",
       "1  constrcut small plant            100000              -20000\n",
       "2            do no thing                 0                   0"
      ]
     },
     "execution_count": 185,
     "metadata": {},
     "output_type": "execute_result"
    }
   ],
   "source": [
    "df.drop(columns=[\"MAX in Row\",\"MIN in Row\",\"Weighted Average\"], inplace=True)\n",
    "df"
   ]
  },
  {
   "cell_type": "code",
   "execution_count": 186,
   "metadata": {},
   "outputs": [
    {
     "data": {
      "text/html": [
       "<div>\n",
       "<style scoped>\n",
       "    .dataframe tbody tr th:only-of-type {\n",
       "        vertical-align: middle;\n",
       "    }\n",
       "\n",
       "    .dataframe tbody tr th {\n",
       "        vertical-align: top;\n",
       "    }\n",
       "\n",
       "    .dataframe thead th {\n",
       "        text-align: right;\n",
       "    }\n",
       "</style>\n",
       "<table border=\"1\" class=\"dataframe\">\n",
       "  <thead>\n",
       "    <tr style=\"text-align: right;\">\n",
       "      <th></th>\n",
       "      <th>Alternative</th>\n",
       "      <th>FAVORABLE MARKET</th>\n",
       "      <th>UNFAVORABLE MARKET</th>\n",
       "      <th>Average</th>\n",
       "    </tr>\n",
       "  </thead>\n",
       "  <tbody>\n",
       "    <tr>\n",
       "      <th>0</th>\n",
       "      <td>construct larg plant</td>\n",
       "      <td>200000</td>\n",
       "      <td>-180000</td>\n",
       "      <td>10000.0</td>\n",
       "    </tr>\n",
       "    <tr>\n",
       "      <th>1</th>\n",
       "      <td>constrcut small plant</td>\n",
       "      <td>100000</td>\n",
       "      <td>-20000</td>\n",
       "      <td>40000.0</td>\n",
       "    </tr>\n",
       "    <tr>\n",
       "      <th>2</th>\n",
       "      <td>do no thing</td>\n",
       "      <td>0</td>\n",
       "      <td>0</td>\n",
       "      <td>0.0</td>\n",
       "    </tr>\n",
       "  </tbody>\n",
       "</table>\n",
       "</div>"
      ],
      "text/plain": [
       "             Alternative  FAVORABLE MARKET  UNFAVORABLE MARKET  Average\n",
       "0   construct larg plant            200000             -180000  10000.0\n",
       "1  constrcut small plant            100000              -20000  40000.0\n",
       "2            do no thing                 0                   0      0.0"
      ]
     },
     "execution_count": 186,
     "metadata": {},
     "output_type": "execute_result"
    }
   ],
   "source": [
    "def Average(v1, v2):\n",
    "    return (v1+v2)/2\n",
    "df[\"Average\"] = [Average(df[\"FAVORABLE MARKET\"][i], df[\"UNFAVORABLE MARKET\"][i]) for i in range(len(df))]\n",
    "df"
   ]
  },
  {
   "cell_type": "code",
   "execution_count": 187,
   "metadata": {},
   "outputs": [
    {
     "data": {
      "text/html": [
       "<div>\n",
       "<style scoped>\n",
       "    .dataframe tbody tr th:only-of-type {\n",
       "        vertical-align: middle;\n",
       "    }\n",
       "\n",
       "    .dataframe tbody tr th {\n",
       "        vertical-align: top;\n",
       "    }\n",
       "\n",
       "    .dataframe thead th {\n",
       "        text-align: right;\n",
       "    }\n",
       "</style>\n",
       "<table border=\"1\" class=\"dataframe\">\n",
       "  <thead>\n",
       "    <tr style=\"text-align: right;\">\n",
       "      <th></th>\n",
       "      <th>Alternative</th>\n",
       "      <th>FAVORABLE MARKET</th>\n",
       "      <th>UNFAVORABLE MARKET</th>\n",
       "      <th>Average</th>\n",
       "    </tr>\n",
       "  </thead>\n",
       "  <tbody>\n",
       "    <tr>\n",
       "      <th>1</th>\n",
       "      <td>constrcut small plant</td>\n",
       "      <td>100000</td>\n",
       "      <td>-20000</td>\n",
       "      <td>40000.0</td>\n",
       "    </tr>\n",
       "  </tbody>\n",
       "</table>\n",
       "</div>"
      ],
      "text/plain": [
       "             Alternative  FAVORABLE MARKET  UNFAVORABLE MARKET  Average\n",
       "1  constrcut small plant            100000              -20000  40000.0"
      ]
     },
     "execution_count": 187,
     "metadata": {},
     "output_type": "execute_result"
    }
   ],
   "source": [
    "df.loc[df.Average == df.Average.max()]"
   ]
  },
  {
   "cell_type": "markdown",
   "metadata": {},
   "source": [
    "**Minimax Regret**\n",
    "1. Create an opportunity loss table by determining \n",
    "the opportunity loss from not choosing the best \n",
    "alternative.\n",
    "2. Opportunity loss is calculated by subtracting \n",
    "each payoff in the column from the best payoff \n",
    "in the column.\n",
    "3. Find the maximum opportunity loss for each \n",
    "alternative and pick the alternative with the \n",
    "minimum number"
   ]
  },
  {
   "cell_type": "code",
   "execution_count": 188,
   "metadata": {},
   "outputs": [
    {
     "data": {
      "text/html": [
       "<div>\n",
       "<style scoped>\n",
       "    .dataframe tbody tr th:only-of-type {\n",
       "        vertical-align: middle;\n",
       "    }\n",
       "\n",
       "    .dataframe tbody tr th {\n",
       "        vertical-align: top;\n",
       "    }\n",
       "\n",
       "    .dataframe thead th {\n",
       "        text-align: right;\n",
       "    }\n",
       "</style>\n",
       "<table border=\"1\" class=\"dataframe\">\n",
       "  <thead>\n",
       "    <tr style=\"text-align: right;\">\n",
       "      <th></th>\n",
       "      <th>Alternative</th>\n",
       "      <th>FAVORABLE MARKET</th>\n",
       "      <th>UNFAVORABLE MARKET</th>\n",
       "    </tr>\n",
       "  </thead>\n",
       "  <tbody>\n",
       "    <tr>\n",
       "      <th>0</th>\n",
       "      <td>construct larg plant</td>\n",
       "      <td>200000</td>\n",
       "      <td>-180000</td>\n",
       "    </tr>\n",
       "    <tr>\n",
       "      <th>1</th>\n",
       "      <td>constrcut small plant</td>\n",
       "      <td>100000</td>\n",
       "      <td>-20000</td>\n",
       "    </tr>\n",
       "    <tr>\n",
       "      <th>2</th>\n",
       "      <td>do no thing</td>\n",
       "      <td>0</td>\n",
       "      <td>0</td>\n",
       "    </tr>\n",
       "  </tbody>\n",
       "</table>\n",
       "</div>"
      ],
      "text/plain": [
       "             Alternative  FAVORABLE MARKET  UNFAVORABLE MARKET\n",
       "0   construct larg plant            200000             -180000\n",
       "1  constrcut small plant            100000              -20000\n",
       "2            do no thing                 0                   0"
      ]
     },
     "execution_count": 188,
     "metadata": {},
     "output_type": "execute_result"
    }
   ],
   "source": [
    "df.drop(columns=[\"Average\"], inplace=True)\n",
    "df"
   ]
  },
  {
   "cell_type": "code",
   "execution_count": 189,
   "metadata": {},
   "outputs": [
    {
     "data": {
      "text/plain": [
       "(200000, 0)"
      ]
     },
     "execution_count": 189,
     "metadata": {},
     "output_type": "execute_result"
    }
   ],
   "source": [
    "favBestProfit = df[\"FAVORABLE MARKET\"].max()\n",
    "unfavBeatProfit = df[\"UNFAVORABLE MARKET\"].max()\n",
    "favBestProfit, unfavBeatProfit"
   ]
  },
  {
   "cell_type": "code",
   "execution_count": 226,
   "metadata": {},
   "outputs": [
    {
     "data": {
      "text/html": [
       "<div>\n",
       "<style scoped>\n",
       "    .dataframe tbody tr th:only-of-type {\n",
       "        vertical-align: middle;\n",
       "    }\n",
       "\n",
       "    .dataframe tbody tr th {\n",
       "        vertical-align: top;\n",
       "    }\n",
       "\n",
       "    .dataframe thead th {\n",
       "        text-align: right;\n",
       "    }\n",
       "</style>\n",
       "<table border=\"1\" class=\"dataframe\">\n",
       "  <thead>\n",
       "    <tr style=\"text-align: right;\">\n",
       "      <th></th>\n",
       "      <th>Alternative</th>\n",
       "      <th>FAVORABLE MARKET</th>\n",
       "      <th>UNFAVORABLE MARKET</th>\n",
       "      <th>MAX regret if you did not do that</th>\n",
       "    </tr>\n",
       "  </thead>\n",
       "  <tbody>\n",
       "    <tr>\n",
       "      <th>0</th>\n",
       "      <td>construct larg plant</td>\n",
       "      <td>0</td>\n",
       "      <td>180000</td>\n",
       "      <td>180000</td>\n",
       "    </tr>\n",
       "    <tr>\n",
       "      <th>1</th>\n",
       "      <td>constrcut small plant</td>\n",
       "      <td>100000</td>\n",
       "      <td>20000</td>\n",
       "      <td>100000</td>\n",
       "    </tr>\n",
       "    <tr>\n",
       "      <th>2</th>\n",
       "      <td>do no thing</td>\n",
       "      <td>200000</td>\n",
       "      <td>0</td>\n",
       "      <td>200000</td>\n",
       "    </tr>\n",
       "  </tbody>\n",
       "</table>\n",
       "</div>"
      ],
      "text/plain": [
       "             Alternative  FAVORABLE MARKET  UNFAVORABLE MARKET  \\\n",
       "0   construct larg plant                 0              180000   \n",
       "1  constrcut small plant            100000               20000   \n",
       "2            do no thing            200000                   0   \n",
       "\n",
       "   MAX regret if you did not do that  \n",
       "0                             180000  \n",
       "1                             100000  \n",
       "2                             200000  "
      ]
     },
     "metadata": {},
     "output_type": "display_data"
    },
    {
     "data": {
      "text/html": [
       "<div>\n",
       "<style scoped>\n",
       "    .dataframe tbody tr th:only-of-type {\n",
       "        vertical-align: middle;\n",
       "    }\n",
       "\n",
       "    .dataframe tbody tr th {\n",
       "        vertical-align: top;\n",
       "    }\n",
       "\n",
       "    .dataframe thead th {\n",
       "        text-align: right;\n",
       "    }\n",
       "</style>\n",
       "<table border=\"1\" class=\"dataframe\">\n",
       "  <thead>\n",
       "    <tr style=\"text-align: right;\">\n",
       "      <th></th>\n",
       "      <th>Alternative</th>\n",
       "      <th>FAVORABLE MARKET</th>\n",
       "      <th>UNFAVORABLE MARKET</th>\n",
       "      <th>MAX regret if you did not do that</th>\n",
       "    </tr>\n",
       "  </thead>\n",
       "  <tbody>\n",
       "    <tr>\n",
       "      <th>1</th>\n",
       "      <td>constrcut small plant</td>\n",
       "      <td>100000</td>\n",
       "      <td>20000</td>\n",
       "      <td>100000</td>\n",
       "    </tr>\n",
       "  </tbody>\n",
       "</table>\n",
       "</div>"
      ],
      "text/plain": [
       "             Alternative  FAVORABLE MARKET  UNFAVORABLE MARKET  \\\n",
       "1  constrcut small plant            100000               20000   \n",
       "\n",
       "   MAX regret if you did not do that  \n",
       "1                             100000  "
      ]
     },
     "execution_count": 226,
     "metadata": {},
     "output_type": "execute_result"
    }
   ],
   "source": [
    "df[\"FAVORABLE MARKET\"] =  abs(favBestProfit -  df[\"FAVORABLE MARKET\"])\n",
    "df[\"UNFAVORABLE MARKET\"] = abs(unfavBeatProfit - df[\"UNFAVORABLE MARKET\"])\n",
    "df[\"MAX regret if you did not do that\"] = [max(df[\"FAVORABLE MARKET\"][i], df[\"UNFAVORABLE MARKET\"][i]) for i in range(len(df))]\n",
    "\n",
    "display(df)\n",
    "df.loc[df[\"MAX regret if you did not do that\"] == df[\"MAX regret if you did not do that\"].min()]\n",
    "\n",
    "\n",
    "\n"
   ]
  }
 ],
 "metadata": {
  "kernelspec": {
   "display_name": "Python 3.9.12 ('base')",
   "language": "python",
   "name": "python3"
  },
  "language_info": {
   "codemirror_mode": {
    "name": "ipython",
    "version": 3
   },
   "file_extension": ".py",
   "mimetype": "text/x-python",
   "name": "python",
   "nbconvert_exporter": "python",
   "pygments_lexer": "ipython3",
   "version": "3.9.12"
  },
  "orig_nbformat": 4,
  "vscode": {
   "interpreter": {
    "hash": "4b9c4346514f1c75c3f75b46c44207535026684b90417d2a4d1ec0e73da03737"
   }
  }
 },
 "nbformat": 4,
 "nbformat_minor": 2
}
